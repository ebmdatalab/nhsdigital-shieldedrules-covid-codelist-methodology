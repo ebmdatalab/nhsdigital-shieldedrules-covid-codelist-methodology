{
 "cells": [
  {
   "cell_type": "markdown",
   "metadata": {},
   "source": [
    "The Chief Medical Officer has created two groups for different social distancing and shieling\n",
    "- “At Risk” – large group (circa 19 million) normally at risk from the flu - should practice strict social distancing\n",
    "- “At high risk” – a smaller sub-group (circa 1.5 million), defined by CMO – should practice complete social “shielding”\n",
    "\n",
    "The \"at risk\" is basically the flu register and NHS Digital have published their [methodology for high risk shielded patient list identification](https://digital.nhs.uk/coronavirus/shielded-patient-list/methodology). They provided the list as [BNF codes](https://ebmdatalab.net/prescribing-data-bnf-codes/) and following notebook generates codes compliant with the [NHS Dictionary of Medicines and Devices](https://ebmdatalab.net/what-is-the-dmd-the-nhs-dictionary-of-medicines-and-devices/) which is the local UK Snomed drug extension. This is the pure code list - logic needs to be applied which is detailed in the guidance."
   ]
  },
  {
   "cell_type": "code",
   "execution_count": 1,
   "metadata": {},
   "outputs": [],
   "source": [
    "from ebmdatalab import bq\n",
    "import os\n",
    "import pandas as pd"
   ]
  },
  {
   "cell_type": "code",
   "execution_count": 2,
   "metadata": {},
   "outputs": [
    {
     "name": "stdout",
     "output_type": "stream",
     "text": [
      "Please visit this URL to authorize this application: https://accounts.google.com/o/oauth2/auth?response_type=code&client_id=725825577420-unm2gnkiprugilg743tkbig250f4sfsj.apps.googleusercontent.com&redirect_uri=urn%3Aietf%3Awg%3Aoauth%3A2.0%3Aoob&scope=https%3A%2F%2Fwww.googleapis.com%2Fauth%2Fbigquery&state=GP91eW82n70z7D4HfTOAMjb6HaufDX&prompt=consent&access_type=offline\n"
     ]
    },
    {
     "name": "stdin",
     "output_type": "stream",
     "text": [
      "Enter the authorization code:  4/yAE5kdKW9JgOD8Hml3xSGsu4fgT7__Be-GY2YTsoXr67VPz8f92NTXs\n"
     ]
    },
    {
     "ename": "GenericGBQException",
     "evalue": "Reason: 400 Syntax error: Parenthesized expression cannot be parsed as an expression, struct constructor, or subquery at [14:4]\n\n(job ID: a34931e5-f61a-46fb-b686-02beaf77bb54)\n\n                                                     -----Query Job SQL Follows-----                                                     \n\n    |    .    |    .    |    .    |    .    |    .    |    .    |    .    |    .    |    .    |    .    |    .    |    .    |    .    |\n   1:\n   2:WITH bnf_codes AS (  \n   3:  SELECT bnf_code FROM hscic.presentation WHERE \n   4:  (##transplant\n   5:  bnf_code LIKE '0802%' OR # the following meds are listed in definition but annex looks like they included all meds in this section\n   6:  ##respiratory\n   7:  bnf_code LIKE '030302%' OR #BNF leukotriene antagonists\n   8:  bnf_code LIKE '0603020T0%' OR #BNF prednisolone\n   9:  bnf_code LIKE '030101%' OR #BNF adrenoceptor aganosts\n  10:  bnf_code LIKE '0302%' OR #BNF corticosteroids resp\n  11:  bnf_code LIKE '0303030B0%' OR #BNF roflumilast \n  12:  bnf_code LIKE '030102%') #BNF antimuscarinin brochodilators\n  13:  AND\n  14:  (bnf_code NOT LIKE '0802020T0%XAX' #BNF tacrolimus mouthwash\n  15:  bnf_code NOT LIKE '0301011R0%')\n  16:   )\n  17:SELECT \"vmp\" AS type, id, bnf_code, nm\n  18:FROM dmd.vmp\n  19:WHERE bnf_code IN (SELECT * FROM bnf_codes)\n  20:\n  21:UNION ALL\n  22:\n  23:SELECT \"amp\" AS type, id, bnf_code, descr\n  24:FROM dmd.amp\n  25:WHERE bnf_code IN (SELECT * FROM bnf_codes)\n  26:\n  27:ORDER BY bnf_code, type, id\n    |    .    |    .    |    .    |    .    |    .    |    .    |    .    |    .    |    .    |    .    |    .    |    .    |    .    |",
     "output_type": "error",
     "traceback": [
      "\u001b[0;31m---------------------------------------------------------------------------\u001b[0m",
      "\u001b[0;31mBadRequest\u001b[0m                                Traceback (most recent call last)",
      "\u001b[0;32m~/.pyenv/versions/3.8.1/lib/python3.8/site-packages/pandas_gbq/gbq.py\u001b[0m in \u001b[0;36m_download_results\u001b[0;34m(self, query_job, max_results, progress_bar_type)\u001b[0m\n\u001b[1;32m    537\u001b[0m \u001b[0;34m\u001b[0m\u001b[0m\n\u001b[0;32m--> 538\u001b[0;31m             \u001b[0mquery_job\u001b[0m\u001b[0;34m.\u001b[0m\u001b[0mresult\u001b[0m\u001b[0;34m(\u001b[0m\u001b[0;34m)\u001b[0m\u001b[0;34m\u001b[0m\u001b[0;34m\u001b[0m\u001b[0m\n\u001b[0m\u001b[1;32m    539\u001b[0m             \u001b[0;31m# Get the table schema, so that we can list rows.\u001b[0m\u001b[0;34m\u001b[0m\u001b[0;34m\u001b[0m\u001b[0;34m\u001b[0m\u001b[0m\n",
      "\u001b[0;32m~/.pyenv/versions/3.8.1/lib/python3.8/site-packages/google/cloud/bigquery/job.py\u001b[0m in \u001b[0;36mresult\u001b[0;34m(self, page_size, max_results, retry, timeout)\u001b[0m\n\u001b[1;32m   3195\u001b[0m             \u001b[0;32mwith\u001b[0m \u001b[0mguard\u001b[0m\u001b[0;34m:\u001b[0m\u001b[0;34m\u001b[0m\u001b[0;34m\u001b[0m\u001b[0m\n\u001b[0;32m-> 3196\u001b[0;31m                 \u001b[0msuper\u001b[0m\u001b[0;34m(\u001b[0m\u001b[0mQueryJob\u001b[0m\u001b[0;34m,\u001b[0m \u001b[0mself\u001b[0m\u001b[0;34m)\u001b[0m\u001b[0;34m.\u001b[0m\u001b[0mresult\u001b[0m\u001b[0;34m(\u001b[0m\u001b[0mretry\u001b[0m\u001b[0;34m=\u001b[0m\u001b[0mretry\u001b[0m\u001b[0;34m,\u001b[0m \u001b[0mtimeout\u001b[0m\u001b[0;34m=\u001b[0m\u001b[0mtimeout\u001b[0m\u001b[0;34m)\u001b[0m\u001b[0;34m\u001b[0m\u001b[0;34m\u001b[0m\u001b[0m\n\u001b[0m\u001b[1;32m   3197\u001b[0m             \u001b[0mtimeout\u001b[0m \u001b[0;34m=\u001b[0m \u001b[0mguard\u001b[0m\u001b[0;34m.\u001b[0m\u001b[0mremaining_timeout\u001b[0m\u001b[0;34m\u001b[0m\u001b[0;34m\u001b[0m\u001b[0m\n",
      "\u001b[0;32m~/.pyenv/versions/3.8.1/lib/python3.8/site-packages/google/cloud/bigquery/job.py\u001b[0m in \u001b[0;36mresult\u001b[0;34m(self, retry, timeout)\u001b[0m\n\u001b[1;32m    817\u001b[0m         \u001b[0;31m# TODO: modify PollingFuture so it can pass a retry argument to done().\u001b[0m\u001b[0;34m\u001b[0m\u001b[0;34m\u001b[0m\u001b[0;34m\u001b[0m\u001b[0m\n\u001b[0;32m--> 818\u001b[0;31m         \u001b[0;32mreturn\u001b[0m \u001b[0msuper\u001b[0m\u001b[0;34m(\u001b[0m\u001b[0m_AsyncJob\u001b[0m\u001b[0;34m,\u001b[0m \u001b[0mself\u001b[0m\u001b[0;34m)\u001b[0m\u001b[0;34m.\u001b[0m\u001b[0mresult\u001b[0m\u001b[0;34m(\u001b[0m\u001b[0mtimeout\u001b[0m\u001b[0;34m=\u001b[0m\u001b[0mtimeout\u001b[0m\u001b[0;34m)\u001b[0m\u001b[0;34m\u001b[0m\u001b[0;34m\u001b[0m\u001b[0m\n\u001b[0m\u001b[1;32m    819\u001b[0m \u001b[0;34m\u001b[0m\u001b[0m\n",
      "\u001b[0;32m~/.pyenv/versions/3.8.1/lib/python3.8/site-packages/google/api_core/future/polling.py\u001b[0m in \u001b[0;36mresult\u001b[0;34m(self, timeout)\u001b[0m\n\u001b[1;32m    126\u001b[0m             \u001b[0;31m# Pylint doesn't recognize that this is valid in this case.\u001b[0m\u001b[0;34m\u001b[0m\u001b[0;34m\u001b[0m\u001b[0;34m\u001b[0m\u001b[0m\n\u001b[0;32m--> 127\u001b[0;31m             \u001b[0;32mraise\u001b[0m \u001b[0mself\u001b[0m\u001b[0;34m.\u001b[0m\u001b[0m_exception\u001b[0m\u001b[0;34m\u001b[0m\u001b[0;34m\u001b[0m\u001b[0m\n\u001b[0m\u001b[1;32m    128\u001b[0m \u001b[0;34m\u001b[0m\u001b[0m\n",
      "\u001b[0;31mBadRequest\u001b[0m: 400 Syntax error: Parenthesized expression cannot be parsed as an expression, struct constructor, or subquery at [14:4]\n\n(job ID: a34931e5-f61a-46fb-b686-02beaf77bb54)\n\n                                                     -----Query Job SQL Follows-----                                                     \n\n    |    .    |    .    |    .    |    .    |    .    |    .    |    .    |    .    |    .    |    .    |    .    |    .    |    .    |\n   1:\n   2:WITH bnf_codes AS (  \n   3:  SELECT bnf_code FROM hscic.presentation WHERE \n   4:  (##transplant\n   5:  bnf_code LIKE '0802%' OR # the following meds are listed in definition but annex looks like they included all meds in this section\n   6:  ##respiratory\n   7:  bnf_code LIKE '030302%' OR #BNF leukotriene antagonists\n   8:  bnf_code LIKE '0603020T0%' OR #BNF prednisolone\n   9:  bnf_code LIKE '030101%' OR #BNF adrenoceptor aganosts\n  10:  bnf_code LIKE '0302%' OR #BNF corticosteroids resp\n  11:  bnf_code LIKE '0303030B0%' OR #BNF roflumilast \n  12:  bnf_code LIKE '030102%') #BNF antimuscarinin brochodilators\n  13:  AND\n  14:  (bnf_code NOT LIKE '0802020T0%XAX' #BNF tacrolimus mouthwash\n  15:  bnf_code NOT LIKE '0301011R0%')\n  16:   )\n  17:SELECT \"vmp\" AS type, id, bnf_code, nm\n  18:FROM dmd.vmp\n  19:WHERE bnf_code IN (SELECT * FROM bnf_codes)\n  20:\n  21:UNION ALL\n  22:\n  23:SELECT \"amp\" AS type, id, bnf_code, descr\n  24:FROM dmd.amp\n  25:WHERE bnf_code IN (SELECT * FROM bnf_codes)\n  26:\n  27:ORDER BY bnf_code, type, id\n    |    .    |    .    |    .    |    .    |    .    |    .    |    .    |    .    |    .    |    .    |    .    |    .    |    .    |",
      "\nDuring handling of the above exception, another exception occurred:\n",
      "\u001b[0;31mGenericGBQException\u001b[0m                       Traceback (most recent call last)",
      "\u001b[0;32m<ipython-input-2-6a779cf484ae>\u001b[0m in \u001b[0;36m<module>\u001b[0;34m\u001b[0m\n\u001b[1;32m     30\u001b[0m ORDER BY bnf_code, type, id'''\n\u001b[1;32m     31\u001b[0m \u001b[0;34m\u001b[0m\u001b[0m\n\u001b[0;32m---> 32\u001b[0;31m \u001b[0mnhsd_shieldedrules_meds\u001b[0m \u001b[0;34m=\u001b[0m \u001b[0mbq\u001b[0m\u001b[0;34m.\u001b[0m\u001b[0mcached_read\u001b[0m\u001b[0;34m(\u001b[0m\u001b[0msql\u001b[0m\u001b[0;34m,\u001b[0m \u001b[0mcsv_path\u001b[0m\u001b[0;34m=\u001b[0m\u001b[0mos\u001b[0m\u001b[0;34m.\u001b[0m\u001b[0mpath\u001b[0m\u001b[0;34m.\u001b[0m\u001b[0mjoin\u001b[0m\u001b[0;34m(\u001b[0m\u001b[0;34m'..'\u001b[0m\u001b[0;34m,\u001b[0m\u001b[0;34m'data'\u001b[0m\u001b[0;34m,\u001b[0m\u001b[0;34m'nhsd_shieldedrules_meds .csv'\u001b[0m\u001b[0;34m)\u001b[0m\u001b[0;34m)\u001b[0m\u001b[0;34m\u001b[0m\u001b[0;34m\u001b[0m\u001b[0m\n\u001b[0m\u001b[1;32m     33\u001b[0m \u001b[0mpd\u001b[0m\u001b[0;34m.\u001b[0m\u001b[0mset_option\u001b[0m\u001b[0;34m(\u001b[0m\u001b[0;34m'display.max_rows'\u001b[0m\u001b[0;34m,\u001b[0m \u001b[0;32mNone\u001b[0m\u001b[0;34m)\u001b[0m\u001b[0;34m\u001b[0m\u001b[0;34m\u001b[0m\u001b[0m\n\u001b[1;32m     34\u001b[0m \u001b[0mnhsd_shieldedrules_meds\u001b[0m\u001b[0;34m.\u001b[0m\u001b[0mhead\u001b[0m\u001b[0;34m(\u001b[0m\u001b[0;36m10\u001b[0m\u001b[0;34m)\u001b[0m\u001b[0;34m\u001b[0m\u001b[0;34m\u001b[0m\u001b[0m\n",
      "\u001b[0;32m~/.pyenv/versions/3.8.1/lib/python3.8/site-packages/ebmdatalab/bq.py\u001b[0m in \u001b[0;36mcached_read\u001b[0;34m(sql, csv_path, use_cache, **kwargs)\u001b[0m\n\u001b[1;32m     45\u001b[0m             \u001b[0mcsv_dir\u001b[0m\u001b[0;34m,\u001b[0m \u001b[0;34m'.tmp{}.{}'\u001b[0m\u001b[0;34m.\u001b[0m\u001b[0mformat\u001b[0m\u001b[0;34m(\u001b[0m\u001b[0m_random_str\u001b[0m\u001b[0;34m(\u001b[0m\u001b[0;36m8\u001b[0m\u001b[0;34m)\u001b[0m\u001b[0;34m,\u001b[0m \u001b[0mcsv_filename\u001b[0m\u001b[0;34m)\u001b[0m\u001b[0;34m\u001b[0m\u001b[0;34m\u001b[0m\u001b[0m\n\u001b[1;32m     46\u001b[0m         )\n\u001b[0;32m---> 47\u001b[0;31m         \u001b[0mdf\u001b[0m \u001b[0;34m=\u001b[0m \u001b[0mpd\u001b[0m\u001b[0;34m.\u001b[0m\u001b[0mread_gbq\u001b[0m\u001b[0;34m(\u001b[0m\u001b[0msql\u001b[0m\u001b[0;34m,\u001b[0m \u001b[0;34m**\u001b[0m\u001b[0mdefaults\u001b[0m\u001b[0;34m)\u001b[0m\u001b[0;34m\u001b[0m\u001b[0;34m\u001b[0m\u001b[0m\n\u001b[0m\u001b[1;32m     48\u001b[0m         \u001b[0mdf\u001b[0m\u001b[0;34m.\u001b[0m\u001b[0mto_csv\u001b[0m\u001b[0;34m(\u001b[0m\u001b[0mtemp_path\u001b[0m\u001b[0;34m,\u001b[0m \u001b[0mindex\u001b[0m\u001b[0;34m=\u001b[0m\u001b[0;32mFalse\u001b[0m\u001b[0;34m)\u001b[0m\u001b[0;34m\u001b[0m\u001b[0;34m\u001b[0m\u001b[0m\n\u001b[1;32m     49\u001b[0m         old_fingerprint_files = glob.glob(\n",
      "\u001b[0;32m~/.pyenv/versions/3.8.1/lib/python3.8/site-packages/pandas/io/gbq.py\u001b[0m in \u001b[0;36mread_gbq\u001b[0;34m(query, project_id, index_col, col_order, reauth, auth_local_webserver, dialect, location, configuration, credentials, use_bqstorage_api, private_key, verbose, progress_bar_type)\u001b[0m\n\u001b[1;32m    173\u001b[0m     \u001b[0;31m# END: new kwargs\u001b[0m\u001b[0;34m\u001b[0m\u001b[0;34m\u001b[0m\u001b[0;34m\u001b[0m\u001b[0m\n\u001b[1;32m    174\u001b[0m \u001b[0;34m\u001b[0m\u001b[0m\n\u001b[0;32m--> 175\u001b[0;31m     return pandas_gbq.read_gbq(\n\u001b[0m\u001b[1;32m    176\u001b[0m         \u001b[0mquery\u001b[0m\u001b[0;34m,\u001b[0m\u001b[0;34m\u001b[0m\u001b[0;34m\u001b[0m\u001b[0m\n\u001b[1;32m    177\u001b[0m         \u001b[0mproject_id\u001b[0m\u001b[0;34m=\u001b[0m\u001b[0mproject_id\u001b[0m\u001b[0;34m,\u001b[0m\u001b[0;34m\u001b[0m\u001b[0;34m\u001b[0m\u001b[0m\n",
      "\u001b[0;32m~/.pyenv/versions/3.8.1/lib/python3.8/site-packages/pandas_gbq/gbq.py\u001b[0m in \u001b[0;36mread_gbq\u001b[0;34m(query, project_id, index_col, col_order, reauth, auth_local_webserver, dialect, location, configuration, credentials, use_bqstorage_api, max_results, verbose, private_key, progress_bar_type)\u001b[0m\n\u001b[1;32m   1007\u001b[0m     )\n\u001b[1;32m   1008\u001b[0m \u001b[0;34m\u001b[0m\u001b[0m\n\u001b[0;32m-> 1009\u001b[0;31m     final_df = connector.run_query(\n\u001b[0m\u001b[1;32m   1010\u001b[0m         \u001b[0mquery\u001b[0m\u001b[0;34m,\u001b[0m\u001b[0;34m\u001b[0m\u001b[0;34m\u001b[0m\u001b[0m\n\u001b[1;32m   1011\u001b[0m         \u001b[0mconfiguration\u001b[0m\u001b[0;34m=\u001b[0m\u001b[0mconfiguration\u001b[0m\u001b[0;34m,\u001b[0m\u001b[0;34m\u001b[0m\u001b[0;34m\u001b[0m\u001b[0m\n",
      "\u001b[0;32m~/.pyenv/versions/3.8.1/lib/python3.8/site-packages/pandas_gbq/gbq.py\u001b[0m in \u001b[0;36mrun_query\u001b[0;34m(self, query, max_results, progress_bar_type, **kwargs)\u001b[0m\n\u001b[1;32m    515\u001b[0m             )\n\u001b[1;32m    516\u001b[0m \u001b[0;34m\u001b[0m\u001b[0m\n\u001b[0;32m--> 517\u001b[0;31m         return self._download_results(\n\u001b[0m\u001b[1;32m    518\u001b[0m             \u001b[0mquery_reply\u001b[0m\u001b[0;34m,\u001b[0m\u001b[0;34m\u001b[0m\u001b[0;34m\u001b[0m\u001b[0m\n\u001b[1;32m    519\u001b[0m             \u001b[0mmax_results\u001b[0m\u001b[0;34m=\u001b[0m\u001b[0mmax_results\u001b[0m\u001b[0;34m,\u001b[0m\u001b[0;34m\u001b[0m\u001b[0;34m\u001b[0m\u001b[0m\n",
      "\u001b[0;32m~/.pyenv/versions/3.8.1/lib/python3.8/site-packages/pandas_gbq/gbq.py\u001b[0m in \u001b[0;36m_download_results\u001b[0;34m(self, query_job, max_results, progress_bar_type)\u001b[0m\n\u001b[1;32m    551\u001b[0m             )\n\u001b[1;32m    552\u001b[0m         \u001b[0;32mexcept\u001b[0m \u001b[0mself\u001b[0m\u001b[0;34m.\u001b[0m\u001b[0mhttp_error\u001b[0m \u001b[0;32mas\u001b[0m \u001b[0mex\u001b[0m\u001b[0;34m:\u001b[0m\u001b[0;34m\u001b[0m\u001b[0;34m\u001b[0m\u001b[0m\n\u001b[0;32m--> 553\u001b[0;31m             \u001b[0mself\u001b[0m\u001b[0;34m.\u001b[0m\u001b[0mprocess_http_error\u001b[0m\u001b[0;34m(\u001b[0m\u001b[0mex\u001b[0m\u001b[0;34m)\u001b[0m\u001b[0;34m\u001b[0m\u001b[0;34m\u001b[0m\u001b[0m\n\u001b[0m\u001b[1;32m    554\u001b[0m         \u001b[0;32mfinally\u001b[0m\u001b[0;34m:\u001b[0m\u001b[0;34m\u001b[0m\u001b[0;34m\u001b[0m\u001b[0m\n\u001b[1;32m    555\u001b[0m             \u001b[0;32mif\u001b[0m \u001b[0mbqstorage_client\u001b[0m\u001b[0;34m:\u001b[0m\u001b[0;34m\u001b[0m\u001b[0;34m\u001b[0m\u001b[0m\n",
      "\u001b[0;32m~/.pyenv/versions/3.8.1/lib/python3.8/site-packages/pandas_gbq/gbq.py\u001b[0m in \u001b[0;36mprocess_http_error\u001b[0;34m(ex)\u001b[0m\n\u001b[1;32m    421\u001b[0m         \u001b[0;31m# <https://cloud.google.com/bigquery/troubleshooting-errors>`__\u001b[0m\u001b[0;34m\u001b[0m\u001b[0;34m\u001b[0m\u001b[0;34m\u001b[0m\u001b[0m\n\u001b[1;32m    422\u001b[0m \u001b[0;34m\u001b[0m\u001b[0m\n\u001b[0;32m--> 423\u001b[0;31m         \u001b[0;32mraise\u001b[0m \u001b[0mGenericGBQException\u001b[0m\u001b[0;34m(\u001b[0m\u001b[0;34m\"Reason: {0}\"\u001b[0m\u001b[0;34m.\u001b[0m\u001b[0mformat\u001b[0m\u001b[0;34m(\u001b[0m\u001b[0mex\u001b[0m\u001b[0;34m)\u001b[0m\u001b[0;34m)\u001b[0m\u001b[0;34m\u001b[0m\u001b[0;34m\u001b[0m\u001b[0m\n\u001b[0m\u001b[1;32m    424\u001b[0m \u001b[0;34m\u001b[0m\u001b[0m\n\u001b[1;32m    425\u001b[0m     def run_query(\n",
      "\u001b[0;31mGenericGBQException\u001b[0m: Reason: 400 Syntax error: Parenthesized expression cannot be parsed as an expression, struct constructor, or subquery at [14:4]\n\n(job ID: a34931e5-f61a-46fb-b686-02beaf77bb54)\n\n                                                     -----Query Job SQL Follows-----                                                     \n\n    |    .    |    .    |    .    |    .    |    .    |    .    |    .    |    .    |    .    |    .    |    .    |    .    |    .    |\n   1:\n   2:WITH bnf_codes AS (  \n   3:  SELECT bnf_code FROM hscic.presentation WHERE \n   4:  (##transplant\n   5:  bnf_code LIKE '0802%' OR # the following meds are listed in definition but annex looks like they included all meds in this section\n   6:  ##respiratory\n   7:  bnf_code LIKE '030302%' OR #BNF leukotriene antagonists\n   8:  bnf_code LIKE '0603020T0%' OR #BNF prednisolone\n   9:  bnf_code LIKE '030101%' OR #BNF adrenoceptor aganosts\n  10:  bnf_code LIKE '0302%' OR #BNF corticosteroids resp\n  11:  bnf_code LIKE '0303030B0%' OR #BNF roflumilast \n  12:  bnf_code LIKE '030102%') #BNF antimuscarinin brochodilators\n  13:  AND\n  14:  (bnf_code NOT LIKE '0802020T0%XAX' #BNF tacrolimus mouthwash\n  15:  bnf_code NOT LIKE '0301011R0%')\n  16:   )\n  17:SELECT \"vmp\" AS type, id, bnf_code, nm\n  18:FROM dmd.vmp\n  19:WHERE bnf_code IN (SELECT * FROM bnf_codes)\n  20:\n  21:UNION ALL\n  22:\n  23:SELECT \"amp\" AS type, id, bnf_code, descr\n  24:FROM dmd.amp\n  25:WHERE bnf_code IN (SELECT * FROM bnf_codes)\n  26:\n  27:ORDER BY bnf_code, type, id\n    |    .    |    .    |    .    |    .    |    .    |    .    |    .    |    .    |    .    |    .    |    .    |    .    |    .    |"
     ]
    }
   ],
   "source": [
    "## The following is written based on version 1 frm March 27th and \n",
    "## is archived at https://web.archive.org/save/https://digital.nhs.uk/coronavirus/shielded-patient-list/methodology/medicines-data\n",
    "\n",
    "sql = '''\n",
    "WITH bnf_codes AS (  \n",
    "  SELECT bnf_code FROM hscic.presentation WHERE \n",
    "  (##transplant\n",
    "  bnf_code LIKE '0802%' OR # the following meds are listed in definition but annex looks like they included all meds in this section\n",
    "  ##respiratory\n",
    "  bnf_code LIKE '030302%' OR #BNF leukotriene antagonists\n",
    "  bnf_code LIKE '0603020T0%' OR #BNF prednisolone\n",
    "  bnf_code LIKE '030101%' OR #BNF adrenoceptor aganosts\n",
    "  bnf_code LIKE '0302%' OR #BNF corticosteroids resp\n",
    "  bnf_code LIKE '0303030B0%' OR #BNF roflumilast \n",
    "  bnf_code LIKE '030102%') #BNF antimuscarinin brochodilators\n",
    "  AND\n",
    "  (bnf_code NOT LIKE '0802020T0%XAX' #BNF tacrolimus mouthwash\n",
    "  bnf_code NOT LIKE '0301011R0%')\n",
    "   )\n",
    "SELECT \"vmp\" AS type, id, bnf_code, nm\n",
    "FROM dmd.vmp\n",
    "WHERE bnf_code IN (SELECT * FROM bnf_codes)\n",
    "\n",
    "UNION ALL\n",
    "\n",
    "SELECT \"amp\" AS type, id, bnf_code, descr\n",
    "FROM dmd.amp\n",
    "WHERE bnf_code IN (SELECT * FROM bnf_codes)\n",
    "\n",
    "ORDER BY bnf_code, type, id'''\n",
    "\n",
    "nhsd_shieldedrules_meds = bq.cached_read(sql, csv_path=os.path.join('..','data','nhsd_shieldedrules_meds .csv'))\n",
    "pd.set_option('display.max_rows', None)\n",
    "nhsd_shieldedrules_meds.head(10)"
   ]
  },
  {
   "cell_type": "markdown",
   "metadata": {},
   "source": [
    "The [CMO guidance on \"at risk\"](https://www.gov.uk/government/publications/guidance-on-shielding-and-protecting-extremely-vulnerable-persons-from-covid-19/guidance-on-shielding-and-protecting-extremely-vulnerable-persons-from-covid-19) is defined as\n",
    "\n",
    "1. Solid organ transplant recipients.\n",
    "2. People with specific cancers:\n",
    "  - people with cancer who are undergoing active chemotherapy or radical radiotherapy for lung cancer\n",
    "  - people with cancers of the blood or bone marrow such as leukaemia, lymphoma or myeloma who are at any stage of treatment\n",
    "  - people having immunotherapy or other continuing antibody treatments for cancer\n",
    "  - people having other targeted cancer treatments which can affect the immune system, such as protein kinase inhibitors or PARP inhibitors\n",
    "  - people who have had bone marrow or stem cell transplants in the last 6 months, or who are still taking immunosuppression drugs\n",
    "  - People with severe respiratory conditions including all cystic fibrosis, severe asthma and severe COPD.\n",
    "3. People with rare diseases and inborn errors of metabolism that significantly increase the risk of infections (such as SCID, homozygous sickle cell).\n",
    "4. People on immunosuppression therapies sufficient to significantly increase risk of infection.\n",
    "5. Women who are pregnant with significant heart disease, congenital or acquired."
   ]
  },
  {
   "cell_type": "markdown",
   "metadata": {},
   "source": [
    "The NHS Digital medicines supports identification of transplant recipients (it might not identify all these patients as in some places osp supplies direct), sever asthma/COPD but medicines could be used on all other points with additional clinical codes. Some ideas\n",
    "- Pregancy related code plus prescription of medicines related to heart disease ([see GitHub repo](https://github.com/ebmdatalab/cvd-covid-codelist-notebook))\n",
    "- Cystic Fibrosis code or [prescription of colistin](https://openprescribing.net/analyse/#org=CCG&numIds=0501070I0&denom=nothing&selectedTab=summary) (in some areas this is supplied via shared care)\n",
    "- immnuosuppression plus increased risk of infection ([see BSRM guidance](https://www.rheumatology.org.uk/Portals/0/Documents/Rheumatology_advice_coronavirus_immunosuppressed_patients_220320.pdf?ver=2020-03-23-165636-767))"
   ]
  }
 ],
 "metadata": {
  "jupytext": {
   "cell_metadata_filter": "all",
   "encoding": "# -*- coding: utf-8 -*-",
   "notebook_metadata_filter": "all,-language_info",
   "text_representation": {
    "extension": ".py",
    "format_name": "light",
    "format_version": "1.5",
    "jupytext_version": "1.3.3"
   }
  },
  "kernelspec": {
   "display_name": "Python 3",
   "language": "python",
   "name": "python3"
  },
  "language_info": {
   "codemirror_mode": {
    "name": "ipython",
    "version": 3
   },
   "file_extension": ".py",
   "mimetype": "text/x-python",
   "name": "python",
   "nbconvert_exporter": "python",
   "pygments_lexer": "ipython3",
   "version": "3.8.1"
  }
 },
 "nbformat": 4,
 "nbformat_minor": 4
}
